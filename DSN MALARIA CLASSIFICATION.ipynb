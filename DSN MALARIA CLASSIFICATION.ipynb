{
 "cells": [
  {
   "cell_type": "markdown",
   "metadata": {},
   "source": [
    "# TITLE : MALARIA CLASSIFICATON USING CONVOLUTIONAL NEURAL NETWORK\n",
    "COMPETITION : DSN AI FOR HEALTH\n",
    "TEAM : TEAM WAKANDA\n",
    "TEAM LEAD : OMONIYI TEMIDAYO ANDREW\n",
    "PHONE NUMBER : 08166220117\n",
    "EMAIL: omoniyiandrewai@gmail.com, kiddojazz@gmail.com"
   ]
  },
  {
   "cell_type": "code",
   "execution_count": 4,
   "metadata": {},
   "outputs": [
    {
     "name": "stdout",
     "output_type": "stream",
     "text": [
      "['Parasitized', 'test', 'train', 'Uninfected', 'valid']\n"
     ]
    }
   ],
   "source": [
    "#Importing necessary libraries\n",
    "import pandas as pd \n",
    "import cv2                 \n",
    "import numpy as np         \n",
    "import os                  \n",
    "from random import shuffle\n",
    "from tqdm import tqdm  \n",
    "import scipy\n",
    "import skimage\n",
    "from skimage.transform import resize\n",
    "#print(os.listdir(\"/chest_xray/chest_xray\"))\n",
    "print(os.listdir(\"C:/Users/AndyJazz/Documents/PYTHON WORK AI/Maleria_Cell/dsn_malaria/cell_images\"))"
   ]
  },
  {
   "cell_type": "code",
   "execution_count": 5,
   "metadata": {},
   "outputs": [],
   "source": [
    "#DATA VISUALIZTION"
   ]
  },
  {
   "cell_type": "code",
   "execution_count": 6,
   "metadata": {},
   "outputs": [],
   "source": [
    "from IPython.display import Image"
   ]
  },
  {
   "cell_type": "code",
   "execution_count": 7,
   "metadata": {},
   "outputs": [
    {
     "data": {
      "image/png": "[encoded data removed]",
      "text/plain": [
       "<IPython.core.display.Image object>"
      ]
     },
     "execution_count": 7,
     "metadata": {
      "image/png": {
       "height": 200,
       "width": 400
      }
     },
     "output_type": "execute_result"
    }
   ],
   "source": [
    "#To see the Currency out in display and set specific width and height\n",
    "Image(filename='C:/Users/AndyJazz/Documents/PYTHON WORK AI/Maleria_Cell/dsn_malaria/cell_images/Parasitized/C33P1thinF_IMG_20150619_114756a_cell_180.png', width=400, height=200)\n",
    "#PARASITIZED IMAGE"
   ]
  },
  {
   "cell_type": "markdown",
   "metadata": {},
   "source": [
    "# STEP 1\n",
    "\n",
    "Pefrorming different data pre-processing technique on the image\n",
    "dataset.\n",
    "- Segmentation\n",
    "- RGB2GRAY\n",
    "- Histogram"
   ]
  },
  {
   "cell_type": "code",
   "execution_count": 8,
   "metadata": {},
   "outputs": [],
   "source": [
    "img = cv2.imread('cell_images/Parasitized/C33P1thinF_IMG_20150619_114756a_cell_180.png')\n",
    "retval,threshold = cv2.threshold(img, 12, 255, cv2.THRESH_BINARY)\n",
    "grayscale =cv2.cvtColor(img,cv2.COLOR_BGR2GRAY)\n",
    "retval2,threshold2 = cv2.threshold(grayscale, 12, 255, cv2.THRESH_BINARY)\n",
    "cv2.imshow('pic', img)\n",
    "cv2.imshow('treshold', threshold)\n",
    "cv2.imshow('treshold', threshold2)\n",
    "cv2.waitKey(0)\n",
    "cv2.destroyAllWindows()"
   ]
  },
  {
   "cell_type": "code",
   "execution_count": 9,
   "metadata": {},
   "outputs": [
    {
     "data": {
      "image/png": "[encoded data removed]",
      "text/plain": [
       "<Figure size 432x288 with 1 Axes>"
      ]
     },
     "metadata": {
      "needs_background": "light"
     },
     "output_type": "display_data"
    }
   ],
   "source": [
    "from skimage import io\n",
    "import matplotlib.pyplot as plt\n",
    "image = io.imread('cell_images/Parasitized/C33P1thinF_IMG_20150619_114756a_cell_180.png')\n",
    "ax = plt.hist(image.ravel(), bins = 256)\n",
    "plt.show()"
   ]
  },
  {
   "cell_type": "code",
   "execution_count": 10,
   "metadata": {},
   "outputs": [
    {
     "name": "stderr",
     "output_type": "stream",
     "text": [
      "Using TensorFlow backend.\n"
     ]
    }
   ],
   "source": [
    "#Libraries needed\n",
    "import keras \n",
    "from keras.models import *\n",
    "from keras.layers import *\n",
    "from keras.optimizers import *\n",
    "from keras.preprocessing.image import ImageDataGenerator\n",
    "from keras import backend as k\n",
    "from keras.preprocessing import image\n",
    "from sklearn.metrics import confusion_matrix\n",
    "import itertools\n",
    "import matplotlib.pyplot as plt\n",
    "\n",
    "#Importing all necessary Libraries\n",
    "\n",
    "import keras\n",
    "from keras import backend as K\n",
    "from keras.layers.core import Dense, Activation\n",
    "from keras.optimizers import Adam\n",
    "from keras.metrics import categorical_crossentropy\n",
    "from keras.preprocessing.image import ImageDataGenerator\n",
    "from keras.preprocessing import image\n",
    "from keras.models import Model\n",
    "from keras.applications import imagenet_utils\n",
    "from keras.layers import Dense,GlobalAveragePooling2D\n",
    "from keras.applications import MobileNet\n",
    "from keras.applications.mobilenet import preprocess_input\n",
    "import numpy as np\n",
    "from IPython.display import Image\n",
    "from keras.optimizers import Adam\n",
    "from sklearn.metrics import confusion_matrix\n",
    "import itertools\n",
    "from keras.models import Sequential\n",
    "import matplotlib.pyplot as plt\n",
    "%matplotlib inline\n",
    "\n",
    "import numpy as np\n",
    "import keras \n",
    "from keras.models import Sequential\n",
    "from keras.layers import Activation\n",
    "from keras.layers.core import Dense, Flatten\n",
    "from keras.optimizers import Adam\n",
    "from keras.metrics import categorical_crossentropy\n",
    "from keras.preprocessing.image import ImageDataGenerator\n",
    "from keras.layers.normalization import BatchNormalization\n",
    "from keras.layers.convolutional import *\n",
    "from matplotlib import pyplot as plt\n",
    "from sklearn.metrics import confusion_matrix\n",
    "import itertools\n",
    "import matplotlib.pyplot as plt\n",
    "%matplotlib inline"
   ]
  },
  {
   "cell_type": "code",
   "execution_count": 11,
   "metadata": {},
   "outputs": [],
   "source": [
    "#Setting the image size and batch size\n",
    "batch_size = 48 #is the standard batch size\n",
    "img_width, img_height = 224, 224\n",
    "#num_classes = 64"
   ]
  },
  {
   "cell_type": "code",
   "execution_count": 12,
   "metadata": {},
   "outputs": [],
   "source": [
    "#Defining the directory of the image to be used\n",
    "train_path = 'C:/Users/AndyJazz/Documents/PYTHON WORK AI/Maleria_Cell/dsn_malaria/cell_images/train'\n",
    "valid_path = 'C:/Users/AndyJazz/Documents/PYTHON WORK AI/Maleria_Cell/dsn_malaria/cell_images/valid'\n",
    "test_path = 'C:/Users/AndyJazz/Documents/PYTHON WORK AI/Maleria_Cell/dsn_malaria/cell_images/test'"
   ]
  },
  {
   "cell_type": "code",
   "execution_count": 13,
   "metadata": {},
   "outputs": [
    {
     "data": {
      "text/plain": [
       "'#Data Augmentation:\\ndatagen = ImageDataGenerator(\\n    rescale=1. / 255,\\n    shear_range=0.2,\\n    zoom_range=0.2,\\n    horizontal_flip=True,\\n    rotation_range=20,\\n    validation_split=0.1,\\n    width_shift_range=0.2,\\n    height_shift_range=0.2\\n     \\n)\\n\\n#valid_datagen = ImageDataGenerator(rescale=1. / 255)\\n\\n#test_datagen = ImageDataGenerator(rescale=1. / 255)'"
      ]
     },
     "execution_count": 13,
     "metadata": {},
     "output_type": "execute_result"
    }
   ],
   "source": [
    "'''#Data Augmentation:\n",
    "datagen = ImageDataGenerator(\n",
    "    rescale=1. / 255,\n",
    "    shear_range=0.2,\n",
    "    zoom_range=0.2,\n",
    "    horizontal_flip=True,\n",
    "    rotation_range=20,\n",
    "    validation_split=0.1,\n",
    "    width_shift_range=0.2,\n",
    "    height_shift_range=0.2\n",
    "     \n",
    ")\n",
    "\n",
    "#valid_datagen = ImageDataGenerator(rescale=1. / 255)\n",
    "\n",
    "#test_datagen = ImageDataGenerator(rescale=1. / 255)'''"
   ]
  },
  {
   "cell_type": "code",
   "execution_count": 14,
   "metadata": {},
   "outputs": [
    {
     "data": {
      "text/plain": [
       "\"train_generator = datagen.flow_from_directory(\\n    train_path,\\n    target_size=(img_width, img_height),\\n    batch_size=batch_size,\\n    #color_mode='grayscale',\\n    class_mode = 'binary',\\n    shuffle = True) #categorical\\n\\n\\n\\nvalidation_generator = datagen.flow_from_directory(\\n    valid_path,\\n    target_size=(img_width, img_height),\\n    batch_size=batch_size,\\n    #color_mode='grayscale', # this to indicated the image is a grayscale image\\n    class_mode= 'binary',\\n    shuffle = True\\n)\\n\""
      ]
     },
     "execution_count": 14,
     "metadata": {},
     "output_type": "execute_result"
    }
   ],
   "source": [
    "'''train_generator = datagen.flow_from_directory(\n",
    "    train_path,\n",
    "    target_size=(img_width, img_height),\n",
    "    batch_size=batch_size,\n",
    "    #color_mode='grayscale',\n",
    "    class_mode = 'binary',\n",
    "    shuffle = True) #categorical\n",
    "\n",
    "\n",
    "\n",
    "validation_generator = datagen.flow_from_directory(\n",
    "    valid_path,\n",
    "    target_size=(img_width, img_height),\n",
    "    batch_size=batch_size,\n",
    "    #color_mode='grayscale', # this to indicated the image is a grayscale image\n",
    "    class_mode= 'binary',\n",
    "    shuffle = True\n",
    ")\n",
    "'''"
   ]
  },
  {
   "cell_type": "code",
   "execution_count": 15,
   "metadata": {},
   "outputs": [
    {
     "data": {
      "text/plain": [
       "'test_datagen = ImageDataGenerator(rescale=1. / 255)'"
      ]
     },
     "execution_count": 15,
     "metadata": {},
     "output_type": "execute_result"
    }
   ],
   "source": [
    "'''test_datagen = ImageDataGenerator(rescale=1. / 255)'''"
   ]
  },
  {
   "cell_type": "code",
   "execution_count": 16,
   "metadata": {},
   "outputs": [
    {
     "data": {
      "text/plain": [
       "\"test_generator = test_datagen.flow_from_directory(\\n    test_path,\\n    target_size=(img_width, img_height),\\n    batch_size=batch_size,\\n    #color_mode='grayscale', # this to indicated the image is a grayscale image\\n    class_mode= 'binary',\\n    shuffle = True\\n)\""
      ]
     },
     "execution_count": 16,
     "metadata": {},
     "output_type": "execute_result"
    }
   ],
   "source": [
    "'''test_generator = test_datagen.flow_from_directory(\n",
    "    test_path,\n",
    "    target_size=(img_width, img_height),\n",
    "    batch_size=batch_size,\n",
    "    #color_mode='grayscale', # this to indicated the image is a grayscale image\n",
    "    class_mode= 'binary',\n",
    "    shuffle = True\n",
    ")'''"
   ]
  },
  {
   "cell_type": "code",
   "execution_count": 17,
   "metadata": {},
   "outputs": [
    {
     "name": "stdout",
     "output_type": "stream",
     "text": [
      "Found 22048 images belonging to 2 classes.\n",
      "Found 2756 images belonging to 2 classes.\n",
      "Found 2754 images belonging to 2 classes.\n"
     ]
    }
   ],
   "source": [
    "train_batches = ImageDataGenerator(preprocessing_function=keras.applications.mobilenet.preprocess_input).flow_from_directory(train_path, target_size=(224,224),batch_size=10, shuffle=True)\n",
    "valid_batches = ImageDataGenerator(preprocessing_function=keras.applications.mobilenet.preprocess_input).flow_from_directory(valid_path, target_size=(224,224),batch_size=10, shuffle=True)\n",
    "test_batches = ImageDataGenerator(preprocessing_function=keras.applications.mobilenet.preprocess_input).flow_from_directory(test_path, target_size=(224,224),batch_size=10, shuffle=False)"
   ]
  },
  {
   "cell_type": "code",
   "execution_count": 19,
   "metadata": {},
   "outputs": [
    {
     "name": "stderr",
     "output_type": "stream",
     "text": [
      "Clipping input data to the valid range for imshow with RGB data ([0..1] for floats or [0..255] for integers).\n"
     ]
    },
    {
     "data": {
      "image/png": "[encoded data removed]",
      "text/plain": [
       "<Figure size 432x288 with 1 Axes>"
      ]
     },
     "metadata": {
      "needs_background": "light"
     },
     "output_type": "display_data"
    }
   ],
   "source": [
    "sample = train_batches.next();\n",
    "plt.imshow(sample[0][0])\n",
    "train_batches.reset()"
   ]
  },
  {
   "cell_type": "markdown",
   "metadata": {},
   "source": [
    "# DEFINE MODEL"
   ]
  },
  {
   "cell_type": "code",
   "execution_count": 20,
   "metadata": {},
   "outputs": [],
   "source": [
    "# https://keras.io/applications/\n",
    "# Tp know more about Keras pretrained model follow the official site and read more about it\n",
    "mobile = keras.applications.mobilenet.MobileNet()"
   ]
  },
  {
   "cell_type": "code",
   "execution_count": 21,
   "metadata": {},
   "outputs": [
    {
     "name": "stdout",
     "output_type": "stream",
     "text": [
      "Model: \"mobilenet_1.00_224\"\n",
      "_________________________________________________________________\n",
      "Layer (type)                 Output Shape              Param #   \n",
      "=================================================================\n",
      "input_1 (InputLayer)         (None, 224, 224, 3)       0         \n",
      "_________________________________________________________________\n",
      "conv1_pad (ZeroPadding2D)    (None, 225, 225, 3)       0         \n",
      "_________________________________________________________________\n",
      "conv1 (Conv2D)               (None, 112, 112, 32)      864       \n",
      "_________________________________________________________________\n",
      "conv1_bn (BatchNormalization (None, 112, 112, 32)      128       \n",
      "_________________________________________________________________\n",
      "conv1_relu (ReLU)            (None, 112, 112, 32)      0         \n",
      "_________________________________________________________________\n",
      "conv_dw_1 (DepthwiseConv2D)  (None, 112, 112, 32)      288       \n",
      "_________________________________________________________________\n",
      "conv_dw_1_bn (BatchNormaliza (None, 112, 112, 32)      128       \n",
      "_________________________________________________________________\n",
      "conv_dw_1_relu (ReLU)        (None, 112, 112, 32)      0         \n",
      "_________________________________________________________________\n",
      "conv_pw_1 (Conv2D)           (None, 112, 112, 64)      2048      \n",
      "_________________________________________________________________\n",
      "conv_pw_1_bn (BatchNormaliza (None, 112, 112, 64)      256       \n",
      "_________________________________________________________________\n",
      "conv_pw_1_relu (ReLU)        (None, 112, 112, 64)      0         \n",
      "_________________________________________________________________\n",
      "conv_pad_2 (ZeroPadding2D)   (None, 113, 113, 64)      0         \n",
      "_________________________________________________________________\n",
      "conv_dw_2 (DepthwiseConv2D)  (None, 56, 56, 64)        576       \n",
      "_________________________________________________________________\n",
      "conv_dw_2_bn (BatchNormaliza (None, 56, 56, 64)        256       \n",
      "_________________________________________________________________\n",
      "conv_dw_2_relu (ReLU)        (None, 56, 56, 64)        0         \n",
      "_________________________________________________________________\n",
      "conv_pw_2 (Conv2D)           (None, 56, 56, 128)       8192      \n",
      "_________________________________________________________________\n",
      "conv_pw_2_bn (BatchNormaliza (None, 56, 56, 128)       512       \n",
      "_________________________________________________________________\n",
      "conv_pw_2_relu (ReLU)        (None, 56, 56, 128)       0         \n",
      "_________________________________________________________________\n",
      "conv_dw_3 (DepthwiseConv2D)  (None, 56, 56, 128)       1152      \n",
      "_________________________________________________________________\n",
      "conv_dw_3_bn (BatchNormaliza (None, 56, 56, 128)       512       \n",
      "_________________________________________________________________\n",
      "conv_dw_3_relu (ReLU)        (None, 56, 56, 128)       0         \n",
      "_________________________________________________________________\n",
      "conv_pw_3 (Conv2D)           (None, 56, 56, 128)       16384     \n",
      "_________________________________________________________________\n",
      "conv_pw_3_bn (BatchNormaliza (None, 56, 56, 128)       512       \n",
      "_________________________________________________________________\n",
      "conv_pw_3_relu (ReLU)        (None, 56, 56, 128)       0         \n",
      "_________________________________________________________________\n",
      "conv_pad_4 (ZeroPadding2D)   (None, 57, 57, 128)       0         \n",
      "_________________________________________________________________\n",
      "conv_dw_4 (DepthwiseConv2D)  (None, 28, 28, 128)       1152      \n",
      "_________________________________________________________________\n",
      "conv_dw_4_bn (BatchNormaliza (None, 28, 28, 128)       512       \n",
      "_________________________________________________________________\n",
      "conv_dw_4_relu (ReLU)        (None, 28, 28, 128)       0         \n",
      "_________________________________________________________________\n",
      "conv_pw_4 (Conv2D)           (None, 28, 28, 256)       32768     \n",
      "_________________________________________________________________\n",
      "conv_pw_4_bn (BatchNormaliza (None, 28, 28, 256)       1024      \n",
      "_________________________________________________________________\n",
      "conv_pw_4_relu (ReLU)        (None, 28, 28, 256)       0         \n",
      "_________________________________________________________________\n",
      "conv_dw_5 (DepthwiseConv2D)  (None, 28, 28, 256)       2304      \n",
      "_________________________________________________________________\n",
      "conv_dw_5_bn (BatchNormaliza (None, 28, 28, 256)       1024      \n",
      "_________________________________________________________________\n",
      "conv_dw_5_relu (ReLU)        (None, 28, 28, 256)       0         \n",
      "_________________________________________________________________\n",
      "conv_pw_5 (Conv2D)           (None, 28, 28, 256)       65536     \n",
      "_________________________________________________________________\n",
      "conv_pw_5_bn (BatchNormaliza (None, 28, 28, 256)       1024      \n",
      "_________________________________________________________________\n",
      "conv_pw_5_relu (ReLU)        (None, 28, 28, 256)       0         \n",
      "_________________________________________________________________\n",
      "conv_pad_6 (ZeroPadding2D)   (None, 29, 29, 256)       0         \n",
      "_________________________________________________________________\n",
      "conv_dw_6 (DepthwiseConv2D)  (None, 14, 14, 256)       2304      \n",
      "_________________________________________________________________\n",
      "conv_dw_6_bn (BatchNormaliza (None, 14, 14, 256)       1024      \n",
      "_________________________________________________________________\n",
      "conv_dw_6_relu (ReLU)        (None, 14, 14, 256)       0         \n",
      "_________________________________________________________________\n",
      "conv_pw_6 (Conv2D)           (None, 14, 14, 512)       131072    \n",
      "_________________________________________________________________\n",
      "conv_pw_6_bn (BatchNormaliza (None, 14, 14, 512)       2048      \n",
      "_________________________________________________________________\n",
      "conv_pw_6_relu (ReLU)        (None, 14, 14, 512)       0         \n",
      "_________________________________________________________________\n",
      "conv_dw_7 (DepthwiseConv2D)  (None, 14, 14, 512)       4608      \n",
      "_________________________________________________________________\n",
      "conv_dw_7_bn (BatchNormaliza (None, 14, 14, 512)       2048      \n",
      "_________________________________________________________________\n",
      "conv_dw_7_relu (ReLU)        (None, 14, 14, 512)       0         \n",
      "_________________________________________________________________\n",
      "conv_pw_7 (Conv2D)           (None, 14, 14, 512)       262144    \n",
      "_________________________________________________________________\n",
      "conv_pw_7_bn (BatchNormaliza (None, 14, 14, 512)       2048      \n",
      "_________________________________________________________________\n",
      "conv_pw_7_relu (ReLU)        (None, 14, 14, 512)       0         \n",
      "_________________________________________________________________\n",
      "conv_dw_8 (DepthwiseConv2D)  (None, 14, 14, 512)       4608      \n",
      "_________________________________________________________________\n",
      "conv_dw_8_bn (BatchNormaliza (None, 14, 14, 512)       2048      \n",
      "_________________________________________________________________\n",
      "conv_dw_8_relu (ReLU)        (None, 14, 14, 512)       0         \n",
      "_________________________________________________________________\n",
      "conv_pw_8 (Conv2D)           (None, 14, 14, 512)       262144    \n",
      "_________________________________________________________________\n",
      "conv_pw_8_bn (BatchNormaliza (None, 14, 14, 512)       2048      \n",
      "_________________________________________________________________\n",
      "conv_pw_8_relu (ReLU)        (None, 14, 14, 512)       0         \n",
      "_________________________________________________________________\n",
      "conv_dw_9 (DepthwiseConv2D)  (None, 14, 14, 512)       4608      \n",
      "_________________________________________________________________\n",
      "conv_dw_9_bn (BatchNormaliza (None, 14, 14, 512)       2048      \n",
      "_________________________________________________________________\n",
      "conv_dw_9_relu (ReLU)        (None, 14, 14, 512)       0         \n",
      "_________________________________________________________________\n",
      "conv_pw_9 (Conv2D)           (None, 14, 14, 512)       262144    \n",
      "_________________________________________________________________\n",
      "conv_pw_9_bn (BatchNormaliza (None, 14, 14, 512)       2048      \n",
      "_________________________________________________________________\n",
      "conv_pw_9_relu (ReLU)        (None, 14, 14, 512)       0         \n",
      "_________________________________________________________________\n",
      "conv_dw_10 (DepthwiseConv2D) (None, 14, 14, 512)       4608      \n",
      "_________________________________________________________________\n",
      "conv_dw_10_bn (BatchNormaliz (None, 14, 14, 512)       2048      \n",
      "_________________________________________________________________\n",
      "conv_dw_10_relu (ReLU)       (None, 14, 14, 512)       0         \n",
      "_________________________________________________________________\n",
      "conv_pw_10 (Conv2D)          (None, 14, 14, 512)       262144    \n",
      "_________________________________________________________________\n",
      "conv_pw_10_bn (BatchNormaliz (None, 14, 14, 512)       2048      \n",
      "_________________________________________________________________\n",
      "conv_pw_10_relu (ReLU)       (None, 14, 14, 512)       0         \n",
      "_________________________________________________________________\n",
      "conv_dw_11 (DepthwiseConv2D) (None, 14, 14, 512)       4608      \n",
      "_________________________________________________________________\n",
      "conv_dw_11_bn (BatchNormaliz (None, 14, 14, 512)       2048      \n",
      "_________________________________________________________________\n",
      "conv_dw_11_relu (ReLU)       (None, 14, 14, 512)       0         \n",
      "_________________________________________________________________\n",
      "conv_pw_11 (Conv2D)          (None, 14, 14, 512)       262144    \n",
      "_________________________________________________________________\n",
      "conv_pw_11_bn (BatchNormaliz (None, 14, 14, 512)       2048      \n",
      "_________________________________________________________________\n",
      "conv_pw_11_relu (ReLU)       (None, 14, 14, 512)       0         \n",
      "_________________________________________________________________\n",
      "conv_pad_12 (ZeroPadding2D)  (None, 15, 15, 512)       0         \n",
      "_________________________________________________________________\n",
      "conv_dw_12 (DepthwiseConv2D) (None, 7, 7, 512)         4608      \n",
      "_________________________________________________________________\n",
      "conv_dw_12_bn (BatchNormaliz (None, 7, 7, 512)         2048      \n",
      "_________________________________________________________________\n",
      "conv_dw_12_relu (ReLU)       (None, 7, 7, 512)         0         \n",
      "_________________________________________________________________\n",
      "conv_pw_12 (Conv2D)          (None, 7, 7, 1024)        524288    \n",
      "_________________________________________________________________\n",
      "conv_pw_12_bn (BatchNormaliz (None, 7, 7, 1024)        4096      \n",
      "_________________________________________________________________\n",
      "conv_pw_12_relu (ReLU)       (None, 7, 7, 1024)        0         \n",
      "_________________________________________________________________\n",
      "conv_dw_13 (DepthwiseConv2D) (None, 7, 7, 1024)        9216      \n",
      "_________________________________________________________________\n",
      "conv_dw_13_bn (BatchNormaliz (None, 7, 7, 1024)        4096      \n",
      "_________________________________________________________________\n",
      "conv_dw_13_relu (ReLU)       (None, 7, 7, 1024)        0         \n",
      "_________________________________________________________________\n",
      "conv_pw_13 (Conv2D)          (None, 7, 7, 1024)        1048576   \n",
      "_________________________________________________________________\n",
      "conv_pw_13_bn (BatchNormaliz (None, 7, 7, 1024)        4096      \n",
      "_________________________________________________________________\n",
      "conv_pw_13_relu (ReLU)       (None, 7, 7, 1024)        0         \n",
      "_________________________________________________________________\n",
      "global_average_pooling2d_1 ( (None, 1024)              0         \n",
      "_________________________________________________________________\n",
      "reshape_1 (Reshape)          (None, 1, 1, 1024)        0         \n",
      "_________________________________________________________________\n",
      "dropout (Dropout)            (None, 1, 1, 1024)        0         \n",
      "_________________________________________________________________\n",
      "conv_preds (Conv2D)          (None, 1, 1, 1000)        1025000   \n",
      "_________________________________________________________________\n",
      "reshape_2 (Reshape)          (None, 1000)              0         \n",
      "_________________________________________________________________\n",
      "act_softmax (Activation)     (None, 1000)              0         \n",
      "=================================================================\n",
      "Total params: 4,253,864\n",
      "Trainable params: 4,231,976\n",
      "Non-trainable params: 21,888\n",
      "_________________________________________________________________\n"
     ]
    }
   ],
   "source": [
    "mobile.summary()"
   ]
  },
  {
   "cell_type": "code",
   "execution_count": 22,
   "metadata": {
    "scrolled": false
   },
   "outputs": [
    {
     "data": {
      "text/plain": [
       "keras.engine.training.Model"
      ]
     },
     "execution_count": 22,
     "metadata": {},
     "output_type": "execute_result"
    }
   ],
   "source": [
    "type(mobile)"
   ]
  },
  {
   "cell_type": "code",
   "execution_count": 23,
   "metadata": {},
   "outputs": [],
   "source": [
    "x = mobile.layers[-6].output # we are going to grab the last 6 output from the mobilenet architecture\n",
    "predictions = Dense(2, activation='softmax')(x) # we set the output to two FAKE OR REAL\n",
    "model = Model(inputs=mobile.input, outputs=predictions)"
   ]
  },
  {
   "cell_type": "code",
   "execution_count": 24,
   "metadata": {},
   "outputs": [
    {
     "name": "stdout",
     "output_type": "stream",
     "text": [
      "Model: \"model_1\"\n",
      "_________________________________________________________________\n",
      "Layer (type)                 Output Shape              Param #   \n",
      "=================================================================\n",
      "input_1 (InputLayer)         (None, 224, 224, 3)       0         \n",
      "_________________________________________________________________\n",
      "conv1_pad (ZeroPadding2D)    (None, 225, 225, 3)       0         \n",
      "_________________________________________________________________\n",
      "conv1 (Conv2D)               (None, 112, 112, 32)      864       \n",
      "_________________________________________________________________\n",
      "conv1_bn (BatchNormalization (None, 112, 112, 32)      128       \n",
      "_________________________________________________________________\n",
      "conv1_relu (ReLU)            (None, 112, 112, 32)      0         \n",
      "_________________________________________________________________\n",
      "conv_dw_1 (DepthwiseConv2D)  (None, 112, 112, 32)      288       \n",
      "_________________________________________________________________\n",
      "conv_dw_1_bn (BatchNormaliza (None, 112, 112, 32)      128       \n",
      "_________________________________________________________________\n",
      "conv_dw_1_relu (ReLU)        (None, 112, 112, 32)      0         \n",
      "_________________________________________________________________\n",
      "conv_pw_1 (Conv2D)           (None, 112, 112, 64)      2048      \n",
      "_________________________________________________________________\n",
      "conv_pw_1_bn (BatchNormaliza (None, 112, 112, 64)      256       \n",
      "_________________________________________________________________\n",
      "conv_pw_1_relu (ReLU)        (None, 112, 112, 64)      0         \n",
      "_________________________________________________________________\n",
      "conv_pad_2 (ZeroPadding2D)   (None, 113, 113, 64)      0         \n",
      "_________________________________________________________________\n",
      "conv_dw_2 (DepthwiseConv2D)  (None, 56, 56, 64)        576       \n",
      "_________________________________________________________________\n",
      "conv_dw_2_bn (BatchNormaliza (None, 56, 56, 64)        256       \n",
      "_________________________________________________________________\n",
      "conv_dw_2_relu (ReLU)        (None, 56, 56, 64)        0         \n",
      "_________________________________________________________________\n",
      "conv_pw_2 (Conv2D)           (None, 56, 56, 128)       8192      \n",
      "_________________________________________________________________\n",
      "conv_pw_2_bn (BatchNormaliza (None, 56, 56, 128)       512       \n",
      "_________________________________________________________________\n",
      "conv_pw_2_relu (ReLU)        (None, 56, 56, 128)       0         \n",
      "_________________________________________________________________\n",
      "conv_dw_3 (DepthwiseConv2D)  (None, 56, 56, 128)       1152      \n",
      "_________________________________________________________________\n",
      "conv_dw_3_bn (BatchNormaliza (None, 56, 56, 128)       512       \n",
      "_________________________________________________________________\n",
      "conv_dw_3_relu (ReLU)        (None, 56, 56, 128)       0         \n",
      "_________________________________________________________________\n",
      "conv_pw_3 (Conv2D)           (None, 56, 56, 128)       16384     \n",
      "_________________________________________________________________\n",
      "conv_pw_3_bn (BatchNormaliza (None, 56, 56, 128)       512       \n",
      "_________________________________________________________________\n",
      "conv_pw_3_relu (ReLU)        (None, 56, 56, 128)       0         \n",
      "_________________________________________________________________\n",
      "conv_pad_4 (ZeroPadding2D)   (None, 57, 57, 128)       0         \n",
      "_________________________________________________________________\n",
      "conv_dw_4 (DepthwiseConv2D)  (None, 28, 28, 128)       1152      \n",
      "_________________________________________________________________\n",
      "conv_dw_4_bn (BatchNormaliza (None, 28, 28, 128)       512       \n",
      "_________________________________________________________________\n",
      "conv_dw_4_relu (ReLU)        (None, 28, 28, 128)       0         \n",
      "_________________________________________________________________\n",
      "conv_pw_4 (Conv2D)           (None, 28, 28, 256)       32768     \n",
      "_________________________________________________________________\n",
      "conv_pw_4_bn (BatchNormaliza (None, 28, 28, 256)       1024      \n",
      "_________________________________________________________________\n",
      "conv_pw_4_relu (ReLU)        (None, 28, 28, 256)       0         \n",
      "_________________________________________________________________\n",
      "conv_dw_5 (DepthwiseConv2D)  (None, 28, 28, 256)       2304      \n",
      "_________________________________________________________________\n",
      "conv_dw_5_bn (BatchNormaliza (None, 28, 28, 256)       1024      \n",
      "_________________________________________________________________\n",
      "conv_dw_5_relu (ReLU)        (None, 28, 28, 256)       0         \n",
      "_________________________________________________________________\n",
      "conv_pw_5 (Conv2D)           (None, 28, 28, 256)       65536     \n",
      "_________________________________________________________________\n",
      "conv_pw_5_bn (BatchNormaliza (None, 28, 28, 256)       1024      \n",
      "_________________________________________________________________\n",
      "conv_pw_5_relu (ReLU)        (None, 28, 28, 256)       0         \n",
      "_________________________________________________________________\n",
      "conv_pad_6 (ZeroPadding2D)   (None, 29, 29, 256)       0         \n",
      "_________________________________________________________________\n",
      "conv_dw_6 (DepthwiseConv2D)  (None, 14, 14, 256)       2304      \n",
      "_________________________________________________________________\n",
      "conv_dw_6_bn (BatchNormaliza (None, 14, 14, 256)       1024      \n",
      "_________________________________________________________________\n",
      "conv_dw_6_relu (ReLU)        (None, 14, 14, 256)       0         \n",
      "_________________________________________________________________\n",
      "conv_pw_6 (Conv2D)           (None, 14, 14, 512)       131072    \n",
      "_________________________________________________________________\n",
      "conv_pw_6_bn (BatchNormaliza (None, 14, 14, 512)       2048      \n",
      "_________________________________________________________________\n",
      "conv_pw_6_relu (ReLU)        (None, 14, 14, 512)       0         \n",
      "_________________________________________________________________\n",
      "conv_dw_7 (DepthwiseConv2D)  (None, 14, 14, 512)       4608      \n",
      "_________________________________________________________________\n",
      "conv_dw_7_bn (BatchNormaliza (None, 14, 14, 512)       2048      \n",
      "_________________________________________________________________\n",
      "conv_dw_7_relu (ReLU)        (None, 14, 14, 512)       0         \n",
      "_________________________________________________________________\n",
      "conv_pw_7 (Conv2D)           (None, 14, 14, 512)       262144    \n",
      "_________________________________________________________________\n",
      "conv_pw_7_bn (BatchNormaliza (None, 14, 14, 512)       2048      \n",
      "_________________________________________________________________\n",
      "conv_pw_7_relu (ReLU)        (None, 14, 14, 512)       0         \n",
      "_________________________________________________________________\n",
      "conv_dw_8 (DepthwiseConv2D)  (None, 14, 14, 512)       4608      \n",
      "_________________________________________________________________\n",
      "conv_dw_8_bn (BatchNormaliza (None, 14, 14, 512)       2048      \n",
      "_________________________________________________________________\n",
      "conv_dw_8_relu (ReLU)        (None, 14, 14, 512)       0         \n",
      "_________________________________________________________________\n",
      "conv_pw_8 (Conv2D)           (None, 14, 14, 512)       262144    \n",
      "_________________________________________________________________\n",
      "conv_pw_8_bn (BatchNormaliza (None, 14, 14, 512)       2048      \n",
      "_________________________________________________________________\n",
      "conv_pw_8_relu (ReLU)        (None, 14, 14, 512)       0         \n",
      "_________________________________________________________________\n",
      "conv_dw_9 (DepthwiseConv2D)  (None, 14, 14, 512)       4608      \n",
      "_________________________________________________________________\n",
      "conv_dw_9_bn (BatchNormaliza (None, 14, 14, 512)       2048      \n",
      "_________________________________________________________________\n",
      "conv_dw_9_relu (ReLU)        (None, 14, 14, 512)       0         \n",
      "_________________________________________________________________\n",
      "conv_pw_9 (Conv2D)           (None, 14, 14, 512)       262144    \n",
      "_________________________________________________________________\n",
      "conv_pw_9_bn (BatchNormaliza (None, 14, 14, 512)       2048      \n",
      "_________________________________________________________________\n",
      "conv_pw_9_relu (ReLU)        (None, 14, 14, 512)       0         \n",
      "_________________________________________________________________\n",
      "conv_dw_10 (DepthwiseConv2D) (None, 14, 14, 512)       4608      \n",
      "_________________________________________________________________\n",
      "conv_dw_10_bn (BatchNormaliz (None, 14, 14, 512)       2048      \n",
      "_________________________________________________________________\n",
      "conv_dw_10_relu (ReLU)       (None, 14, 14, 512)       0         \n",
      "_________________________________________________________________\n",
      "conv_pw_10 (Conv2D)          (None, 14, 14, 512)       262144    \n",
      "_________________________________________________________________\n",
      "conv_pw_10_bn (BatchNormaliz (None, 14, 14, 512)       2048      \n",
      "_________________________________________________________________\n",
      "conv_pw_10_relu (ReLU)       (None, 14, 14, 512)       0         \n",
      "_________________________________________________________________\n",
      "conv_dw_11 (DepthwiseConv2D) (None, 14, 14, 512)       4608      \n",
      "_________________________________________________________________\n",
      "conv_dw_11_bn (BatchNormaliz (None, 14, 14, 512)       2048      \n",
      "_________________________________________________________________\n",
      "conv_dw_11_relu (ReLU)       (None, 14, 14, 512)       0         \n",
      "_________________________________________________________________\n",
      "conv_pw_11 (Conv2D)          (None, 14, 14, 512)       262144    \n",
      "_________________________________________________________________\n",
      "conv_pw_11_bn (BatchNormaliz (None, 14, 14, 512)       2048      \n",
      "_________________________________________________________________\n",
      "conv_pw_11_relu (ReLU)       (None, 14, 14, 512)       0         \n",
      "_________________________________________________________________\n",
      "conv_pad_12 (ZeroPadding2D)  (None, 15, 15, 512)       0         \n",
      "_________________________________________________________________\n",
      "conv_dw_12 (DepthwiseConv2D) (None, 7, 7, 512)         4608      \n",
      "_________________________________________________________________\n",
      "conv_dw_12_bn (BatchNormaliz (None, 7, 7, 512)         2048      \n",
      "_________________________________________________________________\n",
      "conv_dw_12_relu (ReLU)       (None, 7, 7, 512)         0         \n",
      "_________________________________________________________________\n",
      "conv_pw_12 (Conv2D)          (None, 7, 7, 1024)        524288    \n",
      "_________________________________________________________________\n",
      "conv_pw_12_bn (BatchNormaliz (None, 7, 7, 1024)        4096      \n",
      "_________________________________________________________________\n",
      "conv_pw_12_relu (ReLU)       (None, 7, 7, 1024)        0         \n",
      "_________________________________________________________________\n",
      "conv_dw_13 (DepthwiseConv2D) (None, 7, 7, 1024)        9216      \n",
      "_________________________________________________________________\n",
      "conv_dw_13_bn (BatchNormaliz (None, 7, 7, 1024)        4096      \n",
      "_________________________________________________________________\n",
      "conv_dw_13_relu (ReLU)       (None, 7, 7, 1024)        0         \n",
      "_________________________________________________________________\n",
      "conv_pw_13 (Conv2D)          (None, 7, 7, 1024)        1048576   \n",
      "_________________________________________________________________\n",
      "conv_pw_13_bn (BatchNormaliz (None, 7, 7, 1024)        4096      \n",
      "_________________________________________________________________\n",
      "conv_pw_13_relu (ReLU)       (None, 7, 7, 1024)        0         \n",
      "_________________________________________________________________\n",
      "global_average_pooling2d_1 ( (None, 1024)              0         \n",
      "_________________________________________________________________\n",
      "dense_1 (Dense)              (None, 2)                 2050      \n",
      "=================================================================\n",
      "Total params: 3,230,914\n",
      "Trainable params: 3,209,026\n",
      "Non-trainable params: 21,888\n",
      "_________________________________________________________________\n"
     ]
    }
   ],
   "source": [
    "model.summary()"
   ]
  },
  {
   "cell_type": "code",
   "execution_count": 25,
   "metadata": {},
   "outputs": [],
   "source": [
    "for layer in model.layers[:-23]: #We are going to change the last 23 layers of the network\n",
    "    layer.trainabel = False"
   ]
  },
  {
   "cell_type": "code",
   "execution_count": 26,
   "metadata": {},
   "outputs": [],
   "source": [
    "model.compile(Adam(lr=.0001), loss='categorical_crossentropy',metrics=['accuracy'])"
   ]
  },
  {
   "cell_type": "code",
   "execution_count": 27,
   "metadata": {},
   "outputs": [
    {
     "name": "stdout",
     "output_type": "stream",
     "text": [
      "steps_per_epoch=459\n",
      "validation_steps=57\n"
     ]
    }
   ],
   "source": [
    "print('steps_per_epoch={}'.format(int(22048 / batch_size)))\n",
    "print('validation_steps={}'.format(int(2756 / batch_size)))"
   ]
  },
  {
   "cell_type": "code",
   "execution_count": 29,
   "metadata": {},
   "outputs": [],
   "source": [
    "# NOTE: We had to reduce the steps per epoch & validation step due to time it would take to train."
   ]
  },
  {
   "cell_type": "code",
   "execution_count": 28,
   "metadata": {},
   "outputs": [
    {
     "name": "stdout",
     "output_type": "stream",
     "text": [
      "Epoch 1/100\n",
      " - 122s - loss: 0.7257 - accuracy: 0.6944 - val_loss: 4.6944 - val_accuracy: 0.4000\n",
      "Epoch 2/100\n",
      " - 84s - loss: 0.2696 - accuracy: 0.8833 - val_loss: 4.2911 - val_accuracy: 0.5000\n",
      "Epoch 3/100\n",
      " - 84s - loss: 0.3544 - accuracy: 0.8611 - val_loss: 2.8869 - val_accuracy: 0.4667\n",
      "Epoch 4/100\n",
      " - 87s - loss: 0.2624 - accuracy: 0.9167 - val_loss: 1.7139 - val_accuracy: 0.5333\n",
      "Epoch 5/100\n",
      " - 84s - loss: 0.2682 - accuracy: 0.9278 - val_loss: 0.4016 - val_accuracy: 0.7000\n",
      "Epoch 6/100\n",
      " - 83s - loss: 0.2199 - accuracy: 0.9389 - val_loss: 0.3021 - val_accuracy: 0.8667\n",
      "Epoch 7/100\n",
      " - 86s - loss: 0.3307 - accuracy: 0.8944 - val_loss: 0.0545 - val_accuracy: 0.9333\n",
      "Epoch 8/100\n",
      " - 85s - loss: 0.2265 - accuracy: 0.9111 - val_loss: 0.0327 - val_accuracy: 1.0000\n",
      "Epoch 9/100\n",
      " - 83s - loss: 0.1662 - accuracy: 0.9556 - val_loss: 0.3293 - val_accuracy: 0.9667\n",
      "Epoch 10/100\n",
      " - 85s - loss: 0.2248 - accuracy: 0.9278 - val_loss: 0.0207 - val_accuracy: 1.0000\n",
      "Epoch 11/100\n",
      " - 86s - loss: 0.1662 - accuracy: 0.9389 - val_loss: 0.0537 - val_accuracy: 1.0000\n",
      "Epoch 12/100\n",
      " - 82s - loss: 0.2751 - accuracy: 0.9111 - val_loss: 0.8659 - val_accuracy: 0.8000\n",
      "Epoch 13/100\n",
      " - 83s - loss: 0.2137 - accuracy: 0.8944 - val_loss: 0.2498 - val_accuracy: 0.9000\n",
      "Epoch 14/100\n",
      " - 86s - loss: 0.1507 - accuracy: 0.9222 - val_loss: 0.1217 - val_accuracy: 0.9667\n",
      "Epoch 15/100\n",
      " - 84s - loss: 0.1219 - accuracy: 0.9500 - val_loss: 0.7903 - val_accuracy: 0.9667\n",
      "Epoch 16/100\n",
      " - 82s - loss: 0.1346 - accuracy: 0.9667 - val_loss: 0.0228 - val_accuracy: 0.9667\n",
      "Epoch 17/100\n",
      " - 86s - loss: 0.0915 - accuracy: 0.9556 - val_loss: 0.0020 - val_accuracy: 0.9667\n",
      "Epoch 18/100\n",
      " - 85s - loss: 0.1711 - accuracy: 0.9278 - val_loss: 0.0601 - val_accuracy: 0.9333\n",
      "Epoch 19/100\n",
      " - 83s - loss: 0.1422 - accuracy: 0.9500 - val_loss: 0.3745 - val_accuracy: 0.9667\n",
      "Epoch 20/100\n",
      " - 86s - loss: 0.1546 - accuracy: 0.9389 - val_loss: 0.0210 - val_accuracy: 0.9667\n",
      "Epoch 21/100\n",
      " - 86s - loss: 0.1453 - accuracy: 0.9278 - val_loss: 0.0075 - val_accuracy: 1.0000\n",
      "Epoch 22/100\n",
      " - 82s - loss: 0.1438 - accuracy: 0.9389 - val_loss: 0.0069 - val_accuracy: 1.0000\n",
      "Epoch 23/100\n",
      " - 84s - loss: 0.1256 - accuracy: 0.9444 - val_loss: 0.0043 - val_accuracy: 1.0000\n",
      "Epoch 24/100\n",
      " - 86s - loss: 0.1515 - accuracy: 0.9278 - val_loss: 0.3744 - val_accuracy: 0.9333\n",
      "Epoch 25/100\n",
      " - 84s - loss: 0.1666 - accuracy: 0.9500 - val_loss: 0.0170 - val_accuracy: 0.9667\n",
      "Epoch 26/100\n",
      " - 83s - loss: 0.1205 - accuracy: 0.9722 - val_loss: 0.0225 - val_accuracy: 0.9667\n",
      "Epoch 27/100\n",
      " - 86s - loss: 0.2254 - accuracy: 0.9167 - val_loss: 0.0439 - val_accuracy: 0.9333\n",
      "Epoch 28/100\n",
      " - 86s - loss: 0.1936 - accuracy: 0.9333 - val_loss: 0.1540 - val_accuracy: 0.9000\n",
      "Epoch 29/100\n",
      " - 83s - loss: 0.1346 - accuracy: 0.9500 - val_loss: 0.0262 - val_accuracy: 1.0000\n",
      "Epoch 30/100\n",
      " - 88s - loss: 0.0939 - accuracy: 0.9722 - val_loss: 0.0324 - val_accuracy: 0.9667\n",
      "Epoch 31/100\n",
      " - 86s - loss: 0.1272 - accuracy: 0.9667 - val_loss: 0.0310 - val_accuracy: 0.9667\n",
      "Epoch 32/100\n",
      " - 85s - loss: 0.1360 - accuracy: 0.9667 - val_loss: 0.2241 - val_accuracy: 0.9667\n",
      "Epoch 33/100\n",
      " - 83s - loss: 0.1612 - accuracy: 0.9444 - val_loss: 0.2123 - val_accuracy: 0.9333\n",
      "Epoch 34/100\n",
      " - 86s - loss: 0.1892 - accuracy: 0.9056 - val_loss: 0.1722 - val_accuracy: 0.9333\n",
      "Epoch 35/100\n",
      " - 85s - loss: 0.1606 - accuracy: 0.9389 - val_loss: 0.0038 - val_accuracy: 0.9333\n",
      "Epoch 36/100\n",
      " - 83s - loss: 0.0925 - accuracy: 0.9556 - val_loss: 0.0275 - val_accuracy: 0.9667\n",
      "Epoch 37/100\n",
      " - 85s - loss: 0.1119 - accuracy: 0.9611 - val_loss: 0.3655 - val_accuracy: 0.9000\n",
      "Epoch 38/100\n",
      " - 86s - loss: 0.1430 - accuracy: 0.9444 - val_loss: 0.0235 - val_accuracy: 1.0000\n",
      "Epoch 39/100\n",
      " - 83s - loss: 0.1435 - accuracy: 0.9444 - val_loss: 0.0544 - val_accuracy: 0.9333\n",
      "Epoch 40/100\n",
      " - 84s - loss: 0.2060 - accuracy: 0.9167 - val_loss: 0.0132 - val_accuracy: 1.0000\n",
      "Epoch 41/100\n",
      " - 86s - loss: 0.1793 - accuracy: 0.9444 - val_loss: 0.5516 - val_accuracy: 0.9667\n",
      "Epoch 42/100\n",
      " - 84s - loss: 0.1039 - accuracy: 0.9667 - val_loss: 0.0810 - val_accuracy: 1.0000\n",
      "Epoch 43/100\n",
      " - 84s - loss: 0.2449 - accuracy: 0.9333 - val_loss: 0.0588 - val_accuracy: 1.0000\n",
      "Epoch 44/100\n",
      " - 85s - loss: 0.1227 - accuracy: 0.9611 - val_loss: 1.1946 - val_accuracy: 0.9000\n",
      "Epoch 45/100\n",
      " - 85s - loss: 0.0832 - accuracy: 0.9778 - val_loss: 0.0526 - val_accuracy: 1.0000\n",
      "Epoch 46/100\n",
      " - 83s - loss: 0.2182 - accuracy: 0.9444 - val_loss: 0.0176 - val_accuracy: 0.9667\n",
      "Epoch 47/100\n",
      " - 85s - loss: 0.1688 - accuracy: 0.9556 - val_loss: 0.2339 - val_accuracy: 0.9000\n",
      "Epoch 48/100\n",
      " - 86s - loss: 0.1539 - accuracy: 0.9389 - val_loss: 0.2415 - val_accuracy: 0.9667\n",
      "Epoch 49/100\n",
      " - 83s - loss: 0.1248 - accuracy: 0.9667 - val_loss: 0.0094 - val_accuracy: 1.0000\n",
      "Epoch 50/100\n",
      " - 83s - loss: 0.1164 - accuracy: 0.9556 - val_loss: 0.0588 - val_accuracy: 1.0000\n",
      "Epoch 51/100\n",
      " - 86s - loss: 0.1873 - accuracy: 0.9556 - val_loss: 0.2784 - val_accuracy: 0.9667\n",
      "Epoch 52/100\n",
      " - 84s - loss: 0.1825 - accuracy: 0.9444 - val_loss: 0.1082 - val_accuracy: 0.9667\n",
      "Epoch 53/100\n",
      " - 83s - loss: 0.1478 - accuracy: 0.9444 - val_loss: 0.0739 - val_accuracy: 1.0000\n",
      "Epoch 54/100\n",
      " - 86s - loss: 0.1374 - accuracy: 0.9611 - val_loss: 0.0201 - val_accuracy: 1.0000\n",
      "Epoch 55/100\n",
      " - 86s - loss: 0.1374 - accuracy: 0.9667 - val_loss: 0.0510 - val_accuracy: 1.0000\n",
      "Epoch 56/100\n",
      " - 83s - loss: 0.0581 - accuracy: 0.9778 - val_loss: 0.5227 - val_accuracy: 0.9667\n",
      "Epoch 57/100\n",
      " - 83s - loss: 0.0702 - accuracy: 0.9722 - val_loss: 0.0296 - val_accuracy: 1.0000\n",
      "Epoch 58/100\n",
      " - 86s - loss: 0.1726 - accuracy: 0.9556 - val_loss: 0.0720 - val_accuracy: 0.9667\n",
      "Epoch 59/100\n",
      " - 81s - loss: 0.1158 - accuracy: 0.9500 - val_loss: 0.0154 - val_accuracy: 1.0000\n",
      "Epoch 60/100\n",
      " - 81s - loss: 0.1560 - accuracy: 0.9444 - val_loss: 0.2163 - val_accuracy: 0.9000\n",
      "Epoch 61/100\n",
      " - 84s - loss: 0.2283 - accuracy: 0.9333 - val_loss: 0.1768 - val_accuracy: 0.9000\n",
      "Epoch 62/100\n",
      " - 81s - loss: 0.0988 - accuracy: 0.9778 - val_loss: 0.0112 - val_accuracy: 1.0000\n",
      "Epoch 63/100\n",
      " - 81s - loss: 0.1237 - accuracy: 0.9611 - val_loss: 0.5721 - val_accuracy: 0.9333\n",
      "Epoch 64/100\n",
      " - 82s - loss: 0.1012 - accuracy: 0.9611 - val_loss: 1.6787 - val_accuracy: 0.9333\n",
      "Epoch 65/100\n",
      " - 82s - loss: 0.1782 - accuracy: 0.9333 - val_loss: 0.5562 - val_accuracy: 0.5667\n",
      "Epoch 66/100\n",
      " - 86s - loss: 0.0901 - accuracy: 0.9556 - val_loss: 0.7822 - val_accuracy: 0.7667\n",
      "Epoch 67/100\n",
      " - 82s - loss: 0.0649 - accuracy: 0.9833 - val_loss: 0.0162 - val_accuracy: 0.9667\n",
      "Epoch 68/100\n",
      " - 82s - loss: 0.2504 - accuracy: 0.9333 - val_loss: 0.0325 - val_accuracy: 1.0000\n",
      "Epoch 69/100\n",
      " - 84s - loss: 0.1783 - accuracy: 0.9278 - val_loss: 0.0025 - val_accuracy: 0.9667\n",
      "Epoch 70/100\n",
      " - 83s - loss: 0.1639 - accuracy: 0.9444 - val_loss: 0.0709 - val_accuracy: 1.0000\n",
      "Epoch 71/100\n",
      " - 87s - loss: 0.1456 - accuracy: 0.9444 - val_loss: 0.5129 - val_accuracy: 0.8667\n",
      "Epoch 72/100\n",
      " - 83s - loss: 0.1806 - accuracy: 0.9500 - val_loss: 0.6476 - val_accuracy: 0.7000\n",
      "Epoch 73/100\n",
      " - 84s - loss: 0.1442 - accuracy: 0.9444 - val_loss: 0.4113 - val_accuracy: 0.8000\n",
      "Epoch 74/100\n",
      " - 87s - loss: 0.1798 - accuracy: 0.9278 - val_loss: 0.2777 - val_accuracy: 0.9667\n",
      "Epoch 75/100\n",
      " - 85s - loss: 0.1816 - accuracy: 0.9389 - val_loss: 0.0173 - val_accuracy: 1.0000\n",
      "Epoch 76/100\n",
      " - 84s - loss: 0.1082 - accuracy: 0.9722 - val_loss: 0.1769 - val_accuracy: 0.9667\n",
      "Epoch 77/100\n",
      " - 86s - loss: 0.1461 - accuracy: 0.9611 - val_loss: 0.0374 - val_accuracy: 1.0000\n",
      "Epoch 78/100\n",
      " - 86s - loss: 0.1168 - accuracy: 0.9556 - val_loss: 0.0147 - val_accuracy: 1.0000\n",
      "Epoch 79/100\n",
      " - 84s - loss: 0.2045 - accuracy: 0.9167 - val_loss: 0.2128 - val_accuracy: 0.9667\n",
      "Epoch 80/100\n",
      " - 84s - loss: 0.2328 - accuracy: 0.9333 - val_loss: 0.0408 - val_accuracy: 0.9333\n",
      "Epoch 81/100\n",
      " - 86s - loss: 0.1254 - accuracy: 0.9500 - val_loss: 0.0190 - val_accuracy: 1.0000\n",
      "Epoch 82/100\n",
      " - 84s - loss: 0.1080 - accuracy: 0.9611 - val_loss: 0.0078 - val_accuracy: 1.0000\n",
      "Epoch 83/100\n",
      " - 84s - loss: 0.0552 - accuracy: 0.9833 - val_loss: 0.1245 - val_accuracy: 0.9000\n",
      "Epoch 84/100\n",
      " - 86s - loss: 0.0998 - accuracy: 0.9833 - val_loss: 0.0094 - val_accuracy: 0.9667\n",
      "Epoch 85/100\n",
      " - 86s - loss: 0.0717 - accuracy: 0.9667 - val_loss: 0.0523 - val_accuracy: 0.9667\n",
      "Epoch 86/100\n",
      " - 86s - loss: 0.0809 - accuracy: 0.9722 - val_loss: 0.0189 - val_accuracy: 0.9667\n"
     ]
    },
    {
     "name": "stdout",
     "output_type": "stream",
     "text": [
      "Epoch 87/100\n",
      " - 85s - loss: 0.2350 - accuracy: 0.9444 - val_loss: 0.0186 - val_accuracy: 1.0000\n",
      "Epoch 88/100\n",
      " - 86s - loss: 0.1287 - accuracy: 0.9556 - val_loss: 0.2110 - val_accuracy: 0.8667\n",
      "Epoch 89/100\n",
      " - 84s - loss: 0.1389 - accuracy: 0.9556 - val_loss: 0.6811 - val_accuracy: 0.9333\n",
      "Epoch 90/100\n",
      " - 84s - loss: 0.1663 - accuracy: 0.9444 - val_loss: 0.3731 - val_accuracy: 0.9333\n",
      "Epoch 91/100\n",
      " - 86s - loss: 0.1102 - accuracy: 0.9611 - val_loss: 0.0547 - val_accuracy: 1.0000\n",
      "Epoch 92/100\n",
      " - 85s - loss: 0.1054 - accuracy: 0.9556 - val_loss: 0.0508 - val_accuracy: 0.9615\n",
      "Epoch 93/100\n",
      " - 83s - loss: 0.1662 - accuracy: 0.9389 - val_loss: 0.1871 - val_accuracy: 0.9000\n",
      "Epoch 94/100\n",
      " - 87s - loss: 0.1905 - accuracy: 0.9333 - val_loss: 0.0179 - val_accuracy: 0.9333\n",
      "Epoch 95/100\n",
      " - 88s - loss: 0.1602 - accuracy: 0.9444 - val_loss: 0.5837 - val_accuracy: 0.9000\n",
      "Epoch 96/100\n",
      " - 86s - loss: 0.0887 - accuracy: 0.9611 - val_loss: 0.0062 - val_accuracy: 1.0000\n",
      "Epoch 97/100\n",
      " - 84s - loss: 0.1085 - accuracy: 0.9722 - val_loss: 0.1024 - val_accuracy: 0.9000\n",
      "Epoch 98/100\n",
      " - 88s - loss: 0.0693 - accuracy: 0.9833 - val_loss: 0.0307 - val_accuracy: 0.9333\n",
      "Epoch 99/100\n",
      " - 86s - loss: 0.0807 - accuracy: 0.9722 - val_loss: 0.0015 - val_accuracy: 1.0000\n",
      "Epoch 100/100\n",
      " - 84s - loss: 0.2477 - accuracy: 0.9278 - val_loss: 0.0213 - val_accuracy: 1.0000\n"
     ]
    }
   ],
   "source": [
    "history = model.fit_generator(train_batches, steps_per_epoch=18,\n",
    "                   validation_data=valid_batches, validation_steps=3, epochs=100, verbose=2) # 100 iteration"
   ]
  },
  {
   "cell_type": "code",
   "execution_count": 30,
   "metadata": {},
   "outputs": [],
   "source": [
    "model.save('malaria_model_summit.h5')"
   ]
  },
  {
   "cell_type": "code",
   "execution_count": null,
   "metadata": {},
   "outputs": [],
   "source": [
    "'''#I had to reduce the number of iteration due to time and space\n",
    "\n",
    "history = model.fit_generator(\n",
    "    train_generator,\n",
    "    steps_per_epoch= 2000 // batch_size,\n",
    "    epochs= 60,\n",
    "    validation_data=validation_generator,\n",
    "    validation_steps= 800 // batch_size \n",
    ")'''"
   ]
  },
  {
   "cell_type": "code",
   "execution_count": 31,
   "metadata": {},
   "outputs": [
    {
     "data": {
      "image/png": "[encoded data removed]",
      "text/plain": [
       "<Figure size 432x288 with 1 Axes>"
      ]
     },
     "metadata": {
      "needs_background": "light"
     },
     "output_type": "display_data"
    }
   ],
   "source": [
    "plt.plot(history.history['accuracy'])\n",
    "plt.plot(history.history['val_accuracy'])\n",
    "plt.title('Model Accuracy')\n",
    "plt.ylabel('Accuracy')\n",
    "plt.xlabel('Epoch')\n",
    "plt.legend(['train', 'valid'], loc='upper left')\n",
    "plt.show()\n",
    "# The Graph shows the learning Rate of accuracy increases"
   ]
  },
  {
   "cell_type": "code",
   "execution_count": 32,
   "metadata": {},
   "outputs": [
    {
     "data": {
      "image/png": "[encoded data removed]",
      "text/plain": [
       "<Figure size 432x288 with 1 Axes>"
      ]
     },
     "metadata": {
      "needs_background": "light"
     },
     "output_type": "display_data"
    }
   ],
   "source": [
    "plt.plot(history.history['loss'])\n",
    "plt.plot(history.history['val_loss'])\n",
    "plt.title('model loss')\n",
    "plt.ylabel('loss')\n",
    "plt.xlabel('epoch')\n",
    "plt.legend(['train', 'valid'], loc='upper left')\n",
    "plt.show()\n",
    "# This shows the loss reduces as the accuracy increases"
   ]
  },
  {
   "cell_type": "code",
   "execution_count": 33,
   "metadata": {},
   "outputs": [
    {
     "data": {
      "text/plain": [
       "{'0': 0, '1': 1}"
      ]
     },
     "execution_count": 33,
     "metadata": {},
     "output_type": "execute_result"
    }
   ],
   "source": [
    "test_labels = test_batches.classes\n",
    "test_batches.class_indices"
   ]
  },
  {
   "cell_type": "code",
   "execution_count": 34,
   "metadata": {},
   "outputs": [],
   "source": [
    "#Step is divided by the total number of image by the batch sizes\n",
    "predictions = model.predict_generator(test_batches, steps=275.4, verbose=0)"
   ]
  },
  {
   "cell_type": "code",
   "execution_count": 35,
   "metadata": {},
   "outputs": [
    {
     "data": {
      "text/plain": [
       "((2754, 2), (2754,))"
      ]
     },
     "execution_count": 35,
     "metadata": {},
     "output_type": "execute_result"
    }
   ],
   "source": [
    "predictions.shape, test_labels.shape # to get the number of images and classes."
   ]
  },
  {
   "cell_type": "code",
   "execution_count": 36,
   "metadata": {},
   "outputs": [],
   "source": [
    "def plot_confusion_matrix(cm, classes,\n",
    "                         normalize=False,\n",
    "                         title='Confusion matrix',\n",
    "                         cmap=plt.cm.Blues):\n",
    "    '''\n",
    "    This fuction would print and plot the confusion matrix.\n",
    "    Nomalization can be addedby as normalize=True\n",
    "    '''\n",
    "    plt.imshow(cm, interpolation='nearest', cmap=cmap)\n",
    "    plt.title(title)\n",
    "    plt.colorbar()\n",
    "    tick_marks = np.arange(len(classes))\n",
    "    plt.xticks(tick_marks, classes, rotation=45)\n",
    "    plt.yticks(tick_marks, classes)\n",
    "    \n",
    "    if normalize:\n",
    "        cm = cm.astype('float') / cm.sum(axis=1)[:, np.newaxis]\n",
    "        print(\"Normalize Confusion matrix\")\n",
    "    else:\n",
    "        print(\"confusion matrix without normalization\")\n",
    "    print(cm)\n",
    "    \n",
    "    thresh = cm.max() / 2.\n",
    "    for i, j in itertools.product(range(cm.shape[0]), range(cm.shape[1])):\n",
    "        plt.text(j, i, cm[i, j],\n",
    "                horizontalalignment=\"center\",\n",
    "                color='white' if cm[i, j] > thresh else \"black\")\n",
    "        \n",
    "    plt.tight_layout()\n",
    "    plt.ylabel('True Label')\n",
    "    plt.xlabel('Prediction Label')"
   ]
  },
  {
   "cell_type": "code",
   "execution_count": 37,
   "metadata": {},
   "outputs": [],
   "source": [
    "cm = confusion_matrix(test_labels, predictions.argmax(axis=1))"
   ]
  },
  {
   "cell_type": "code",
   "execution_count": 38,
   "metadata": {},
   "outputs": [
    {
     "name": "stdout",
     "output_type": "stream",
     "text": [
      "confusion matrix without normalization\n",
      "[[1271  106]\n",
      " [  36 1341]]\n"
     ]
    },
    {
     "data": {
      "image/png": "[encoded data removed]",
      "text/plain": [
       "<Figure size 432x288 with 2 Axes>"
      ]
     },
     "metadata": {
      "needs_background": "light"
     },
     "output_type": "display_data"
    }
   ],
   "source": [
    "cm_plot_labels = ['infected','unifected']\n",
    "plot_confusion_matrix(cm, cm_plot_labels, title='Confusion Matrix')"
   ]
  },
  {
   "cell_type": "code",
   "execution_count": 39,
   "metadata": {},
   "outputs": [],
   "source": [
    "from sklearn.metrics import classification_report\n",
    "from sklearn.metrics import accuracy_score"
   ]
  },
  {
   "cell_type": "code",
   "execution_count": 40,
   "metadata": {},
   "outputs": [
    {
     "name": "stdout",
     "output_type": "stream",
     "text": [
      "              precision    recall  f1-score   support\n",
      "\n",
      "           0       0.97      0.92      0.95      1377\n",
      "           1       0.93      0.97      0.95      1377\n",
      "\n",
      "    accuracy                           0.95      2754\n",
      "   macro avg       0.95      0.95      0.95      2754\n",
      "weighted avg       0.95      0.95      0.95      2754\n",
      "\n",
      "0.9484386347131445\n"
     ]
    }
   ],
   "source": [
    "print( classification_report(test_labels, predictions.argmax(axis=1)))\n",
    "print( accuracy_score(test_labels, predictions.argmax(axis=1)))"
   ]
  },
  {
   "cell_type": "markdown",
   "metadata": {},
   "source": [
    "# AUC AND ROC"
   ]
  },
  {
   "cell_type": "code",
   "execution_count": 41,
   "metadata": {},
   "outputs": [
    {
     "data": {
      "image/png": "[encoded data removed]",
      "text/plain": [
       "<Figure size 432x288 with 1 Axes>"
      ]
     },
     "metadata": {
      "needs_background": "light"
     },
     "output_type": "display_data"
    }
   ],
   "source": [
    "from sklearn.metrics import roc_auc_score, auc\n",
    "from sklearn.metrics import roc_curve\n",
    "roc_log = roc_auc_score(test_labels, predictions.argmax(axis=1))\n",
    "false_positive_rate, true_positive_rate, threshold = roc_curve(test_labels, predictions.argmax(axis=1))\n",
    "area_under_curve = auc(false_positive_rate, true_positive_rate)\n",
    "\n",
    "plt.plot([0, 1], [0, 1], 'r--')\n",
    "plt.plot(false_positive_rate, true_positive_rate, label='AUC = {:.3f}'.format(area_under_curve))\n",
    "plt.xlabel('False positive rate')\n",
    "plt.ylabel('True positive rate')\n",
    "plt.title('ROC curve')\n",
    "plt.legend(loc='best')\n",
    "plt.show()\n",
    "#plt.savefig(ROC_PLOT_FILE, bbox_inches='tight')\n",
    "plt.close()"
   ]
  },
  {
   "cell_type": "markdown",
   "metadata": {},
   "source": [
    "# TEST THE MODEL"
   ]
  },
  {
   "cell_type": "code",
   "execution_count": 1,
   "metadata": {},
   "outputs": [
    {
     "name": "stderr",
     "output_type": "stream",
     "text": [
      "Using TensorFlow backend.\n"
     ]
    },
    {
     "name": "stdout",
     "output_type": "stream",
     "text": [
      "*Model Loaded!!!\n"
     ]
    }
   ],
   "source": [
    "from keras.models import load_model\n",
    "new_model = load_model('malaria_model_2.h5')\n",
    "print(\"*Model Loaded!!!\")"
   ]
  },
  {
   "cell_type": "code",
   "execution_count": 2,
   "metadata": {},
   "outputs": [
    {
     "name": "stdout",
     "output_type": "stream",
     "text": [
      "Model: \"model_1\"\n",
      "_________________________________________________________________\n",
      "Layer (type)                 Output Shape              Param #   \n",
      "=================================================================\n",
      "input_1 (InputLayer)         (None, 224, 224, 3)       0         \n",
      "_________________________________________________________________\n",
      "conv1_pad (ZeroPadding2D)    (None, 225, 225, 3)       0         \n",
      "_________________________________________________________________\n",
      "conv1 (Conv2D)               (None, 112, 112, 32)      864       \n",
      "_________________________________________________________________\n",
      "conv1_bn (BatchNormalization (None, 112, 112, 32)      128       \n",
      "_________________________________________________________________\n",
      "conv1_relu (ReLU)            (None, 112, 112, 32)      0         \n",
      "_________________________________________________________________\n",
      "conv_dw_1 (DepthwiseConv2D)  (None, 112, 112, 32)      288       \n",
      "_________________________________________________________________\n",
      "conv_dw_1_bn (BatchNormaliza (None, 112, 112, 32)      128       \n",
      "_________________________________________________________________\n",
      "conv_dw_1_relu (ReLU)        (None, 112, 112, 32)      0         \n",
      "_________________________________________________________________\n",
      "conv_pw_1 (Conv2D)           (None, 112, 112, 64)      2048      \n",
      "_________________________________________________________________\n",
      "conv_pw_1_bn (BatchNormaliza (None, 112, 112, 64)      256       \n",
      "_________________________________________________________________\n",
      "conv_pw_1_relu (ReLU)        (None, 112, 112, 64)      0         \n",
      "_________________________________________________________________\n",
      "conv_pad_2 (ZeroPadding2D)   (None, 113, 113, 64)      0         \n",
      "_________________________________________________________________\n",
      "conv_dw_2 (DepthwiseConv2D)  (None, 56, 56, 64)        576       \n",
      "_________________________________________________________________\n",
      "conv_dw_2_bn (BatchNormaliza (None, 56, 56, 64)        256       \n",
      "_________________________________________________________________\n",
      "conv_dw_2_relu (ReLU)        (None, 56, 56, 64)        0         \n",
      "_________________________________________________________________\n",
      "conv_pw_2 (Conv2D)           (None, 56, 56, 128)       8192      \n",
      "_________________________________________________________________\n",
      "conv_pw_2_bn (BatchNormaliza (None, 56, 56, 128)       512       \n",
      "_________________________________________________________________\n",
      "conv_pw_2_relu (ReLU)        (None, 56, 56, 128)       0         \n",
      "_________________________________________________________________\n",
      "conv_dw_3 (DepthwiseConv2D)  (None, 56, 56, 128)       1152      \n",
      "_________________________________________________________________\n",
      "conv_dw_3_bn (BatchNormaliza (None, 56, 56, 128)       512       \n",
      "_________________________________________________________________\n",
      "conv_dw_3_relu (ReLU)        (None, 56, 56, 128)       0         \n",
      "_________________________________________________________________\n",
      "conv_pw_3 (Conv2D)           (None, 56, 56, 128)       16384     \n",
      "_________________________________________________________________\n",
      "conv_pw_3_bn (BatchNormaliza (None, 56, 56, 128)       512       \n",
      "_________________________________________________________________\n",
      "conv_pw_3_relu (ReLU)        (None, 56, 56, 128)       0         \n",
      "_________________________________________________________________\n",
      "conv_pad_4 (ZeroPadding2D)   (None, 57, 57, 128)       0         \n",
      "_________________________________________________________________\n",
      "conv_dw_4 (DepthwiseConv2D)  (None, 28, 28, 128)       1152      \n",
      "_________________________________________________________________\n",
      "conv_dw_4_bn (BatchNormaliza (None, 28, 28, 128)       512       \n",
      "_________________________________________________________________\n",
      "conv_dw_4_relu (ReLU)        (None, 28, 28, 128)       0         \n",
      "_________________________________________________________________\n",
      "conv_pw_4 (Conv2D)           (None, 28, 28, 256)       32768     \n",
      "_________________________________________________________________\n",
      "conv_pw_4_bn (BatchNormaliza (None, 28, 28, 256)       1024      \n",
      "_________________________________________________________________\n",
      "conv_pw_4_relu (ReLU)        (None, 28, 28, 256)       0         \n",
      "_________________________________________________________________\n",
      "conv_dw_5 (DepthwiseConv2D)  (None, 28, 28, 256)       2304      \n",
      "_________________________________________________________________\n",
      "conv_dw_5_bn (BatchNormaliza (None, 28, 28, 256)       1024      \n",
      "_________________________________________________________________\n",
      "conv_dw_5_relu (ReLU)        (None, 28, 28, 256)       0         \n",
      "_________________________________________________________________\n",
      "conv_pw_5 (Conv2D)           (None, 28, 28, 256)       65536     \n",
      "_________________________________________________________________\n",
      "conv_pw_5_bn (BatchNormaliza (None, 28, 28, 256)       1024      \n",
      "_________________________________________________________________\n",
      "conv_pw_5_relu (ReLU)        (None, 28, 28, 256)       0         \n",
      "_________________________________________________________________\n",
      "conv_pad_6 (ZeroPadding2D)   (None, 29, 29, 256)       0         \n",
      "_________________________________________________________________\n",
      "conv_dw_6 (DepthwiseConv2D)  (None, 14, 14, 256)       2304      \n",
      "_________________________________________________________________\n",
      "conv_dw_6_bn (BatchNormaliza (None, 14, 14, 256)       1024      \n",
      "_________________________________________________________________\n",
      "conv_dw_6_relu (ReLU)        (None, 14, 14, 256)       0         \n",
      "_________________________________________________________________\n",
      "conv_pw_6 (Conv2D)           (None, 14, 14, 512)       131072    \n",
      "_________________________________________________________________\n",
      "conv_pw_6_bn (BatchNormaliza (None, 14, 14, 512)       2048      \n",
      "_________________________________________________________________\n",
      "conv_pw_6_relu (ReLU)        (None, 14, 14, 512)       0         \n",
      "_________________________________________________________________\n",
      "conv_dw_7 (DepthwiseConv2D)  (None, 14, 14, 512)       4608      \n",
      "_________________________________________________________________\n",
      "conv_dw_7_bn (BatchNormaliza (None, 14, 14, 512)       2048      \n",
      "_________________________________________________________________\n",
      "conv_dw_7_relu (ReLU)        (None, 14, 14, 512)       0         \n",
      "_________________________________________________________________\n",
      "conv_pw_7 (Conv2D)           (None, 14, 14, 512)       262144    \n",
      "_________________________________________________________________\n",
      "conv_pw_7_bn (BatchNormaliza (None, 14, 14, 512)       2048      \n",
      "_________________________________________________________________\n",
      "conv_pw_7_relu (ReLU)        (None, 14, 14, 512)       0         \n",
      "_________________________________________________________________\n",
      "conv_dw_8 (DepthwiseConv2D)  (None, 14, 14, 512)       4608      \n",
      "_________________________________________________________________\n",
      "conv_dw_8_bn (BatchNormaliza (None, 14, 14, 512)       2048      \n",
      "_________________________________________________________________\n",
      "conv_dw_8_relu (ReLU)        (None, 14, 14, 512)       0         \n",
      "_________________________________________________________________\n",
      "conv_pw_8 (Conv2D)           (None, 14, 14, 512)       262144    \n",
      "_________________________________________________________________\n",
      "conv_pw_8_bn (BatchNormaliza (None, 14, 14, 512)       2048      \n",
      "_________________________________________________________________\n",
      "conv_pw_8_relu (ReLU)        (None, 14, 14, 512)       0         \n",
      "_________________________________________________________________\n",
      "conv_dw_9 (DepthwiseConv2D)  (None, 14, 14, 512)       4608      \n",
      "_________________________________________________________________\n",
      "conv_dw_9_bn (BatchNormaliza (None, 14, 14, 512)       2048      \n",
      "_________________________________________________________________\n",
      "conv_dw_9_relu (ReLU)        (None, 14, 14, 512)       0         \n",
      "_________________________________________________________________\n",
      "conv_pw_9 (Conv2D)           (None, 14, 14, 512)       262144    \n",
      "_________________________________________________________________\n",
      "conv_pw_9_bn (BatchNormaliza (None, 14, 14, 512)       2048      \n",
      "_________________________________________________________________\n",
      "conv_pw_9_relu (ReLU)        (None, 14, 14, 512)       0         \n",
      "_________________________________________________________________\n",
      "conv_dw_10 (DepthwiseConv2D) (None, 14, 14, 512)       4608      \n",
      "_________________________________________________________________\n",
      "conv_dw_10_bn (BatchNormaliz (None, 14, 14, 512)       2048      \n",
      "_________________________________________________________________\n",
      "conv_dw_10_relu (ReLU)       (None, 14, 14, 512)       0         \n",
      "_________________________________________________________________\n",
      "conv_pw_10 (Conv2D)          (None, 14, 14, 512)       262144    \n",
      "_________________________________________________________________\n",
      "conv_pw_10_bn (BatchNormaliz (None, 14, 14, 512)       2048      \n",
      "_________________________________________________________________\n",
      "conv_pw_10_relu (ReLU)       (None, 14, 14, 512)       0         \n",
      "_________________________________________________________________\n",
      "conv_dw_11 (DepthwiseConv2D) (None, 14, 14, 512)       4608      \n",
      "_________________________________________________________________\n",
      "conv_dw_11_bn (BatchNormaliz (None, 14, 14, 512)       2048      \n",
      "_________________________________________________________________\n",
      "conv_dw_11_relu (ReLU)       (None, 14, 14, 512)       0         \n",
      "_________________________________________________________________\n",
      "conv_pw_11 (Conv2D)          (None, 14, 14, 512)       262144    \n",
      "_________________________________________________________________\n",
      "conv_pw_11_bn (BatchNormaliz (None, 14, 14, 512)       2048      \n",
      "_________________________________________________________________\n",
      "conv_pw_11_relu (ReLU)       (None, 14, 14, 512)       0         \n",
      "_________________________________________________________________\n",
      "conv_pad_12 (ZeroPadding2D)  (None, 15, 15, 512)       0         \n",
      "_________________________________________________________________\n",
      "conv_dw_12 (DepthwiseConv2D) (None, 7, 7, 512)         4608      \n",
      "_________________________________________________________________\n",
      "conv_dw_12_bn (BatchNormaliz (None, 7, 7, 512)         2048      \n",
      "_________________________________________________________________\n",
      "conv_dw_12_relu (ReLU)       (None, 7, 7, 512)         0         \n",
      "_________________________________________________________________\n",
      "conv_pw_12 (Conv2D)          (None, 7, 7, 1024)        524288    \n",
      "_________________________________________________________________\n",
      "conv_pw_12_bn (BatchNormaliz (None, 7, 7, 1024)        4096      \n",
      "_________________________________________________________________\n",
      "conv_pw_12_relu (ReLU)       (None, 7, 7, 1024)        0         \n",
      "_________________________________________________________________\n",
      "conv_dw_13 (DepthwiseConv2D) (None, 7, 7, 1024)        9216      \n",
      "_________________________________________________________________\n",
      "conv_dw_13_bn (BatchNormaliz (None, 7, 7, 1024)        4096      \n",
      "_________________________________________________________________\n",
      "conv_dw_13_relu (ReLU)       (None, 7, 7, 1024)        0         \n",
      "_________________________________________________________________\n",
      "conv_pw_13 (Conv2D)          (None, 7, 7, 1024)        1048576   \n",
      "_________________________________________________________________\n",
      "conv_pw_13_bn (BatchNormaliz (None, 7, 7, 1024)        4096      \n",
      "_________________________________________________________________\n",
      "conv_pw_13_relu (ReLU)       (None, 7, 7, 1024)        0         \n",
      "_________________________________________________________________\n",
      "global_average_pooling2d_1 ( (None, 1024)              0         \n",
      "_________________________________________________________________\n",
      "dense_1 (Dense)              (None, 2)                 2050      \n",
      "=================================================================\n",
      "Total params: 3,230,914\n",
      "Trainable params: 3,209,026\n",
      "Non-trainable params: 21,888\n",
      "_________________________________________________________________\n"
     ]
    }
   ],
   "source": [
    "new_model.summary()"
   ]
  },
  {
   "cell_type": "code",
   "execution_count": 3,
   "metadata": {},
   "outputs": [],
   "source": [
    "import cv2\n",
    "import numpy as np"
   ]
  },
  {
   "cell_type": "code",
   "execution_count": 4,
   "metadata": {},
   "outputs": [],
   "source": [
    "def converter(value):\n",
    "    if value == 0:\n",
    "        return \"Parastiized\"\n",
    "    else:\n",
    "        return \"Uninfected\""
   ]
  }
 ],
 "metadata": {
  "kernelspec": {
   "display_name": "Python 3",
   "language": "python",
   "name": "python3"
  },
  "language_info": {
   "codemirror_mode": {
    "name": "ipython",
    "version": 3
   },
   "file_extension": ".py",
   "mimetype": "text/x-python",
   "name": "python",
   "nbconvert_exporter": "python",
   "pygments_lexer": "ipython3",
   "version": "3.7.6"
  }
 },
 "nbformat": 4,
 "nbformat_minor": 2
}
